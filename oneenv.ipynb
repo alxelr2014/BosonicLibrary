{
 "cells": [
  {
   "cell_type": "code",
   "execution_count": 27,
   "metadata": {},
   "outputs": [],
   "source": [
    "from sympy import *\n",
    "from strawberryfields.decompositions import bloch_messiah\n",
    "from sympy.physics.quantum.dagger import Dagger\n",
    "\n",
    "s = Symbol(\"s\", positive = True)\n",
    "k = Symbol(\"k\", positive = True)\n",
    "init_printing(use_latex=\"mathjax\", latex_mode=\"equation\")\n",
    "x = Matrix([[1,0],[0,1]])\n",
    "y = Matrix([[s*s,0],[0,s*s]])\n",
    "tvar = symbols('t1:5')\n",
    "rvar = symbols('r1:5')\n",
    "qvar = symbols('q1:5')\n",
    "t = Matrix([[tvar[0],tvar[1]],[tvar[2],tvar[3]]])\n",
    "r = Matrix([[rvar[0],rvar[1]],[rvar[2],rvar[3]]])\n",
    "q = Matrix([[qvar[0],qvar[1]],[qvar[2],qvar[3]]])\n",
    "omega1 = Matrix([[0,1],[-1,0]])\n",
    "# omega2 = Matrix([[omega1,zeros(2)],[zeros(2),omega1]])\n",
    "def cond0():\n",
    "    return t*omega1*t.T\n",
    "def cond1():\n",
    "    return (s*s)*t*t.T - y\n",
    "def cond2():\n",
    "    return q*omega1 + r*omega1*t.T\n",
    "def cond3():\n",
    "    return q*omega1*q.T + r*omega1*r.T - omega1\n",
    "\n",
    "def allconds():\n",
    "    return Matrix([[cond0(),cond1()],[cond2(),cond3()]])"
   ]
  },
  {
   "cell_type": "code",
   "execution_count": 31,
   "metadata": {},
   "outputs": [
    {
     "data": {
      "text/latex": [
       "\\begin{equation}\\left[\\begin{matrix}0 & \\frac{\\sqrt{2} \\left(- t_{3} + t_{4}\\right)}{2} & 0 & \\frac{\\sqrt{2} s^{2} \\left(t_{3} + t_{4}\\right)}{2}\\\\\\frac{\\sqrt{2} \\left(t_{3} - t_{4}\\right)}{2} & 0 & \\frac{\\sqrt{2} s^{2} \\left(t_{3} + t_{4}\\right)}{2} & s^{2} \\left(t_{3}^{2} + t_{4}^{2} - 1\\right)\\\\- q_{2} + \\frac{\\sqrt{2} r_{1}}{2} - \\frac{\\sqrt{2} r_{2}}{2} & q_{1} + r_{1} t_{4} - r_{2} t_{3} & 0 & q_{1} q_{4} - q_{2} q_{3} + r_{1} r_{4} - r_{2} r_{3} - 1\\\\- q_{4} + \\frac{\\sqrt{2} r_{3}}{2} - \\frac{\\sqrt{2} r_{4}}{2} & q_{3} + r_{3} t_{4} - r_{4} t_{3} & - q_{1} q_{4} + q_{2} q_{3} - r_{1} r_{4} + r_{2} r_{3} + 1 & 0\\end{matrix}\\right]\\end{equation}"
      ],
      "text/plain": [
       "⎡                                                                             \n",
       "⎢                       √2⋅(-t₃ + t₄)                                         \n",
       "⎢         0             ─────────────                     0                   \n",
       "⎢                             2                                               \n",
       "⎢                                                                             \n",
       "⎢                                                      2                      \n",
       "⎢   √2⋅(t₃ - t₄)                                   √2⋅s ⋅(t₃ + t₄)            \n",
       "⎢   ────────────              0                    ───────────────            \n",
       "⎢        2                                                2                   \n",
       "⎢                                                                             \n",
       "⎢      √2⋅r₁   √2⋅r₂                                                          \n",
       "⎢-q₂ + ───── - ─────  q₁ + r₁⋅t₄ - r₂⋅t₃                  0                   \n",
       "⎢        2       2                                                            \n",
       "⎢                                                                             \n",
       "⎢      √2⋅r₃   √2⋅r₄                                                          \n",
       "⎢-q₄ + ───── - ─────  q₃ + r₃⋅t₄ - r₄⋅t₃  -q₁⋅q₄ + q₂⋅q₃ - r₁⋅r₄ + r₂⋅r₃ + 1  \n",
       "⎣        2       2                                                            \n",
       "\n",
       "             2                   ⎤\n",
       "         √2⋅s ⋅(t₃ + t₄)         ⎥\n",
       "         ───────────────         ⎥\n",
       "                2                ⎥\n",
       "                                 ⎥\n",
       "                                 ⎥\n",
       "        2 ⎛  2     2    ⎞        ⎥\n",
       "       s ⋅⎝t₃  + t₄  - 1⎠        ⎥\n",
       "                                 ⎥\n",
       "                                 ⎥\n",
       "                                 ⎥\n",
       "q₁⋅q₄ - q₂⋅q₃ + r₁⋅r₄ - r₂⋅r₃ - 1⎥\n",
       "                                 ⎥\n",
       "                                 ⎥\n",
       "                                 ⎥\n",
       "                0                ⎥\n",
       "                                 ⎦"
      ]
     },
     "execution_count": 31,
     "metadata": {},
     "output_type": "execute_result"
    }
   ],
   "source": [
    "simplify(expand(allconds()).subs([\n",
    "    (tvar[0],1/sqrt(2)),\n",
    "    (tvar[1],1/sqrt(2)),\n",
    "    # (tvar[2],sqrt(s*s/(2*k*k+1)-1)),\n",
    "    # (tvar[3],sqrt(1-s*s/(2*k*k+1))),\n",
    "\n",
    "    # (qvar[0],0),\n",
    "    # (qvar[1],0),\n",
    "    # (qvar[2],1),\n",
    "    # (qvar[3],0),\n",
    "\n",
    "    # (rvar[0],0),\n",
    "    # (rvar[1],0),\n",
    "    # (rvar[2],1),\n",
    "    # (rvar[3],0),\n",
    "    ]))"
   ]
  }
 ],
 "metadata": {
  "kernelspec": {
   "display_name": "Python 3",
   "language": "python",
   "name": "python3"
  },
  "language_info": {
   "codemirror_mode": {
    "name": "ipython",
    "version": 3
   },
   "file_extension": ".py",
   "mimetype": "text/x-python",
   "name": "python",
   "nbconvert_exporter": "python",
   "pygments_lexer": "ipython3",
   "version": "3.12.2"
  }
 },
 "nbformat": 4,
 "nbformat_minor": 2
}
